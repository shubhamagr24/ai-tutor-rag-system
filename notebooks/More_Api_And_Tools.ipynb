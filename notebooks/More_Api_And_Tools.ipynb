{
  "cells": [
    {
      "cell_type": "markdown",
      "source": [
        "#1. Llamaparse"
      ],
      "metadata": {
        "id": "IP_XthpV2L_s"
      }
    },
    {
      "cell_type": "markdown",
      "metadata": {
        "id": "vV92zrs8ki7E"
      },
      "source": [
        "## Installing Requirements"
      ]
    },
    {
      "cell_type": "code",
      "execution_count": 1,
      "metadata": {
        "id": "pv7jcSZjki7G",
        "colab": {
          "base_uri": "https://localhost:8080/"
        },
        "outputId": "a495fa50-b090-491e-971a-704c1be623fc"
      },
      "outputs": [
        {
          "output_type": "stream",
          "name": "stdout",
          "text": [
            "\u001b[2K   \u001b[90m━━━━━━━━━━━━━━━━━━━━━━━━━━━━━━━━━━━━━━━━\u001b[0m \u001b[32m1.6/1.6 MB\u001b[0m \u001b[31m15.9 MB/s\u001b[0m eta \u001b[36m0:00:00\u001b[0m\n",
            "\u001b[2K   \u001b[90m━━━━━━━━━━━━━━━━━━━━━━━━━━━━━━━━━━━━━━━━\u001b[0m \u001b[32m1.2/1.2 MB\u001b[0m \u001b[31m17.5 MB/s\u001b[0m eta \u001b[36m0:00:00\u001b[0m\n",
            "\u001b[2K   \u001b[90m━━━━━━━━━━━━━━━━━━━━━━━━━━━━━━━━━━━━━━━━\u001b[0m \u001b[32m250.6/250.6 kB\u001b[0m \u001b[31m7.8 MB/s\u001b[0m eta \u001b[36m0:00:00\u001b[0m\n",
            "\u001b[2K   \u001b[90m━━━━━━━━━━━━━━━━━━━━━━━━━━━━━━━━━━━━━━━━\u001b[0m \u001b[32m295.8/295.8 kB\u001b[0m \u001b[31m11.7 MB/s\u001b[0m eta \u001b[36m0:00:00\u001b[0m\n",
            "\u001b[2K   \u001b[90m━━━━━━━━━━━━━━━━━━━━━━━━━━━━━━━━━━━━━━━━\u001b[0m \u001b[32m1.2/1.2 MB\u001b[0m \u001b[31m22.8 MB/s\u001b[0m eta \u001b[36m0:00:00\u001b[0m\n",
            "\u001b[2K   \u001b[90m━━━━━━━━━━━━━━━━━━━━━━━━━━━━━━━━━━━━━━━━\u001b[0m \u001b[32m50.8/50.8 kB\u001b[0m \u001b[31m1.6 MB/s\u001b[0m eta \u001b[36m0:00:00\u001b[0m\n",
            "\u001b[?25h"
          ]
        }
      ],
      "source": [
        "!pip install -q llama-index==0.11.16 llama-parse==0.5.7"
      ]
    },
    {
      "cell_type": "markdown",
      "source": [
        "## Setting Environment Variables"
      ],
      "metadata": {
        "id": "tyrUr1vumJ3m"
      }
    },
    {
      "cell_type": "code",
      "source": [
        "import os\n",
        "os.environ[\"LLAMA_CLOUD_API_KEY\"] = \"<LLAMA_CLOUD_API_KEY>\"\n",
        "os.environ[\"OPENAI_API_KEY\"] = \"<OPENAI_API_KEY>\"\n",
        "\n",
        "\n",
        "# from google.colab import userdata\n",
        "# os.environ[\"LLAMA_CLOUD_API_KEY\"] = userdata.get('LlamaParse_API_KEY')\n",
        "# os.environ[\"OPENAI_API_KEY\"] = userdata.get('OPENAI_API_KEY1')"
      ],
      "metadata": {
        "id": "pdugMsvemL7e"
      },
      "execution_count": 2,
      "outputs": []
    },
    {
      "cell_type": "code",
      "source": [
        "import nest_asyncio\n",
        "nest_asyncio.apply()"
      ],
      "metadata": {
        "id": "vq44XKn_p6zi"
      },
      "execution_count": 3,
      "outputs": []
    },
    {
      "cell_type": "markdown",
      "source": [
        "## Downloading the pdf"
      ],
      "metadata": {
        "id": "Hu18SRLAufzt"
      }
    },
    {
      "cell_type": "code",
      "execution_count": 4,
      "metadata": {
        "id": "XaMsc4n7ki7H"
      },
      "outputs": [],
      "source": [
        "# Write python code to download this pdf and store it somewhere\n",
        "import requests\n",
        "\n",
        "quaterly_report_pdf = \"amazon_q1_report_2024.pdf\"\n",
        "response = requests.get(\"https://s2.q4cdn.com/299287126/files/doc_financials/2024/q1/AMZN-Q1-2024-Earnings-Release.pdf\")\n",
        "with open(quaterly_report_pdf, 'wb') as f:\n",
        "    f.write(response.content)\n"
      ]
    },
    {
      "cell_type": "markdown",
      "metadata": {
        "id": "gUXdR0Elki7I"
      },
      "source": [
        "#### Use LlamaParse to parse quaterly report"
      ]
    },
    {
      "cell_type": "code",
      "execution_count": 5,
      "metadata": {
        "id": "QTJZh_JTki7I",
        "outputId": "caa92093-54c3-49f6-805c-d8a75101d0aa",
        "colab": {
          "base_uri": "https://localhost:8080/",
          "height": 162
        }
      },
      "outputs": [
        {
          "output_type": "stream",
          "name": "stdout",
          "text": [
            "Started parsing the file under job_id ab7446b3-98d7-4913-9b41-90512bcd6cbc\n"
          ]
        },
        {
          "output_type": "execute_result",
          "data": {
            "text/plain": [
              "<IPython.core.display.Markdown object>"
            ],
            "text/markdown": "# AMAZON.COM ANNOUNCES FIRST QUARTER RESULTS\n\nSEATTLE—(BUSINESS WIRE) April 30, 2024—Amazon.com, Inc. (NASDAQ: AMZN) today announced financial results for its first quarter ended March 31, 2024.\n\nNet sales increased 13% to $143.3 billion in the first quarter, compared with $127.4 billion in first quarter 2023. Excluding the $0.2 billion unfavorable impact from year-over-year changes in foreign exchange rates throughout the quarter, net sales increased"
          },
          "metadata": {},
          "execution_count": 5
        }
      ],
      "source": [
        "from llama_parse import LlamaParse\n",
        "from llama_index.core import SimpleDirectoryReader\n",
        "from IPython.display import Markdown\n",
        "\n",
        "# set up parser\n",
        "parser = LlamaParse(\n",
        "    result_type=\"markdown\"\n",
        ")\n",
        "file_extractor = {\".pdf\": parser}\n",
        "documents = SimpleDirectoryReader(input_files=['amazon_q1_report_2024.pdf'], file_extractor=file_extractor).load_data()\n",
        "Markdown(documents[0].text)"
      ]
    },
    {
      "cell_type": "code",
      "source": [
        "Markdown(documents[15].text)"
      ],
      "metadata": {
        "colab": {
          "base_uri": "https://localhost:8080/",
          "height": 1000
        },
        "id": "Rk-QFtYri6bj",
        "outputId": "a07e2019-5b87-40df-9c7c-6f9b8e13e81d"
      },
      "execution_count": 6,
      "outputs": [
        {
          "output_type": "execute_result",
          "data": {
            "text/plain": [
              "<IPython.core.display.Markdown object>"
            ],
            "text/markdown": "# AMAZON.COM, INC.\n\n# Supplemental Financial Information and Business Metrics\n\n# (in millions, except employee data)\n\n# (unaudited)\n\n| |Q4 2022|Q1 2023|Q2 2023|Q3 2023|Q4 2023|Q1 2024|Y/Y % Change|\n|---|---|---|---|---|---|---|---|\n|Net Sales|$ 64,531|$ 51,096|$ 52,966|$ 57,267|$ 70,543|$ 54,670|7 %|\n|Online stores (1)| | | | | | |2 %|\n|Online stores -- Y/Y growth, excluding F/X|2 %|3 %|5 %|6 %|8 %|7 %|N/A|\n|Physical stores (2)|$ 4,957|$ 4,895|$ 5,024|$ 4,959|$ 5,152|$ 5,202|6 %|\n|Physical stores -- Y/Y growth, excluding F/X|6 %|7 %|7 %|6 %|4 %|6 %|N/A|\n|Third-party seller services (3)|$ 36,339|$ 29,820|$ 32,332|$ 34,342|$ 43,559|$ 34,596|16 %|\n|Third-party seller services -- Y/Y growth, excluding F/X|24 %|20 %|18 %|18 %|19 %|16 %|N/A|\n|Advertising services (4)|$ 11,557|$ 9,509|$ 10,683|$ 12,060|$ 14,654|$ 11,824|24 %|\n|Advertising services -- Y/Y growth, excluding F/X|23 %|23 %|22 %|25 %|26 %|24 %|N/A|\n|Subscription services (5)|$ 9,189|$ 9,657|$ 9,894|$ 10,170|$ 10,488|$ 10,722|11 %|\n|Subscription services -- Y/Y growth, excluding F/X|17 %|17 %|14 %|13 %|13 %|11 %|N/A|\n|AWS|$ 21,378|$ 21,354|$ 22,140|$ 23,059|$ 24,204|$ 25,037|17 %|\n|AWS -- Y/Y growth, excluding F/X|20 %|16 %|12 %|12 %|13 %|17 %|N/A|\n|Other (6)|$ 1,253|$ 1,027|$ 1,344|$ 1,226|$ 1,361|$ 1,262|23 %|\n|Other -- Y/Y growth (decline), excluding F/X|80 %|57 %|26 %|(3)%|8 %|23 %|N/A|\n\n# Stock-based Compensation Expense\n\n| |Q4 2022|Q1 2023|Q2 2023|Q3 2023|Q4 2023|Q1 2024|Y/Y % Change|\n|---|---|---|---|---|---|---|---|\n|Cost of sales|$ 208|$ 165|$ 251|$ 193|$ 227|$ 174|6 %|\n|Fulfillment|$ 757|$ 603|$ 932|$ 732|$ 823|$ 636|5 %|\n|Technology and infrastructure|$ 3,126|$ 2,574|$ 4,043|$ 3,284|$ 3,533|$ 2,772|8 %|\n|Sales and marketing|$ 1,092|$ 993|$ 1,303|$ 1,111|$ 1,216|$ 932|(6)%|\n|General and administrative|$ 423|$ 413|$ 598|$ 509|$ 520|$ 447|8 %|\n|Total stock-based compensation expense|$ 5,606|$ 4,748|$ 7,127|$ 5,829|$ 6,319|$ 4,961|4 %|\n\n# Other\n\n| |Q4 2022|Q1 2023|Q2 2023|Q3 2023|Q4 2023|Q1 2024|Y/Y % Change|\n|---|---|---|---|---|---|---|---|\n|WW shipping costs|$ 24,714|$ 19,937|$ 20,418|$ 21,799|$ 27,326|$ 21,834|10 %|\n|WW shipping costs -- Y/Y growth|4 %|2 %|6 %|9 %|11 %|10 %|N/A|\n|WW paid units -- Y/Y growth (7)|8 %|8 %|9 %|9 %|12 %|12 %|N/A|\n|WW seller unit mix -- % of WW paid units (7)|59 %|59 %|60 %|60 %|61 %|61 %|N/A|\n|Employees (full-time and part-time; excludes contractors & temporary personnel)|1,541,000|1,465,000|1,461,000|1,500,000|1,525,000|1,521,000|4 %|\n|Employees (full-time and part-time; excludes contractors & temporary personnel) -- Y/Y growth (decline)|(4)%|(10)%|(4)%|(3)%|(1)%|4 %|N/A|\n\n(1) Includes product sales and digital media content where we record revenue gross. We leverage our retail infrastructure to offer a wide selection of"
          },
          "metadata": {},
          "execution_count": 6
        }
      ]
    },
    {
      "cell_type": "markdown",
      "source": [
        "# CrewAI"
      ],
      "metadata": {
        "id": "58JjY-Hm2G9Q"
      }
    },
    {
      "cell_type": "markdown",
      "source": [
        "### Install required pacakges\n"
      ],
      "metadata": {
        "id": "HV1DyBd2RHrN"
      }
    },
    {
      "cell_type": "code",
      "source": [
        "!pip install --q crewai==0.100.0 duckduckgo-search==7.3.0 langchain-openai==0.3.3 langchain-community==0.3.16"
      ],
      "metadata": {
        "id": "xOj-BuKARJrH",
        "colab": {
          "base_uri": "https://localhost:8080/"
        },
        "outputId": "ecf88f21-308a-4b6d-c119-db93cd9a16b5",
        "collapsed": true
      },
      "execution_count": 7,
      "outputs": [
        {
          "output_type": "stream",
          "name": "stdout",
          "text": [
            "\u001b[2K     \u001b[90m━━━━━━━━━━━━━━━━━━━━━━━━━━━━━━━━━━━━━━━━\u001b[0m \u001b[32m42.5/42.5 kB\u001b[0m \u001b[31m1.4 MB/s\u001b[0m eta \u001b[36m0:00:00\u001b[0m\n",
            "\u001b[2K     \u001b[90m━━━━━━━━━━━━━━━━━━━━━━━━━━━━━━━━━━━━━━━━\u001b[0m \u001b[32m67.3/67.3 kB\u001b[0m \u001b[31m4.4 MB/s\u001b[0m eta \u001b[36m0:00:00\u001b[0m\n",
            "\u001b[?25h  Installing build dependencies ... \u001b[?25l\u001b[?25hdone\n",
            "  Getting requirements to build wheel ... \u001b[?25l\u001b[?25hdone\n",
            "  Preparing metadata (pyproject.toml) ... \u001b[?25l\u001b[?25hdone\n",
            "\u001b[2K     \u001b[90m━━━━━━━━━━━━━━━━━━━━━━━━━━━━━━━━━━━━━━━━\u001b[0m \u001b[32m48.2/48.2 kB\u001b[0m \u001b[31m3.3 MB/s\u001b[0m eta \u001b[36m0:00:00\u001b[0m\n",
            "\u001b[2K   \u001b[90m━━━━━━━━━━━━━━━━━━━━━━━━━━━━━━━━━━━━━━━━\u001b[0m \u001b[32m233.2/233.2 kB\u001b[0m \u001b[31m8.7 MB/s\u001b[0m eta \u001b[36m0:00:00\u001b[0m\n",
            "\u001b[2K   \u001b[90m━━━━━━━━━━━━━━━━━━━━━━━━━━━━━━━━━━━━━━━━\u001b[0m \u001b[32m54.5/54.5 kB\u001b[0m \u001b[31m4.0 MB/s\u001b[0m eta \u001b[36m0:00:00\u001b[0m\n",
            "\u001b[2K   \u001b[90m━━━━━━━━━━━━━━━━━━━━━━━━━━━━━━━━━━━━━━━━\u001b[0m \u001b[32m2.5/2.5 MB\u001b[0m \u001b[31m40.1 MB/s\u001b[0m eta \u001b[36m0:00:00\u001b[0m\n",
            "\u001b[2K   \u001b[90m━━━━━━━━━━━━━━━━━━━━━━━━━━━━━━━━━━━━━━━━\u001b[0m \u001b[32m6.6/6.6 MB\u001b[0m \u001b[31m87.9 MB/s\u001b[0m eta \u001b[36m0:00:00\u001b[0m\n",
            "\u001b[2K   \u001b[90m━━━━━━━━━━━━━━━━━━━━━━━━━━━━━━━━━━━━━━━━\u001b[0m \u001b[32m134.0/134.0 kB\u001b[0m \u001b[31m9.2 MB/s\u001b[0m eta \u001b[36m0:00:00\u001b[0m\n",
            "\u001b[2K   \u001b[90m━━━━━━━━━━━━━━━━━━━━━━━━━━━━━━━━━━━━━━━━\u001b[0m \u001b[32m611.1/611.1 kB\u001b[0m \u001b[31m30.8 MB/s\u001b[0m eta \u001b[36m0:00:00\u001b[0m\n",
            "\u001b[2K   \u001b[90m━━━━━━━━━━━━━━━━━━━━━━━━━━━━━━━━━━━━━━━━\u001b[0m \u001b[32m2.4/2.4 MB\u001b[0m \u001b[31m63.4 MB/s\u001b[0m eta \u001b[36m0:00:00\u001b[0m\n",
            "\u001b[2K   \u001b[90m━━━━━━━━━━━━━━━━━━━━━━━━━━━━━━━━━━━━━━━━\u001b[0m \u001b[32m71.4/71.4 kB\u001b[0m \u001b[31m4.5 MB/s\u001b[0m eta \u001b[36m0:00:00\u001b[0m\n",
            "\u001b[2K   \u001b[90m━━━━━━━━━━━━━━━━━━━━━━━━━━━━━━━━━━━━━━━━\u001b[0m \u001b[32m412.7/412.7 kB\u001b[0m \u001b[31m24.6 MB/s\u001b[0m eta \u001b[36m0:00:00\u001b[0m\n",
            "\u001b[2K   \u001b[90m━━━━━━━━━━━━━━━━━━━━━━━━━━━━━━━━━━━━━━━━\u001b[0m \u001b[32m64.3/64.3 kB\u001b[0m \u001b[31m2.8 MB/s\u001b[0m eta \u001b[36m0:00:00\u001b[0m\n",
            "\u001b[2K   \u001b[90m━━━━━━━━━━━━━━━━━━━━━━━━━━━━━━━━━━━━━━━━\u001b[0m \u001b[32m55.8/55.8 kB\u001b[0m \u001b[31m3.4 MB/s\u001b[0m eta \u001b[36m0:00:00\u001b[0m\n",
            "\u001b[2K   \u001b[90m━━━━━━━━━━━━━━━━━━━━━━━━━━━━━━━━━━━━━━━━\u001b[0m \u001b[32m118.1/118.1 kB\u001b[0m \u001b[31m8.5 MB/s\u001b[0m eta \u001b[36m0:00:00\u001b[0m\n",
            "\u001b[2K   \u001b[90m━━━━━━━━━━━━━━━━━━━━━━━━━━━━━━━━━━━━━━━━\u001b[0m \u001b[32m166.6/166.6 kB\u001b[0m \u001b[31m12.7 MB/s\u001b[0m eta \u001b[36m0:00:00\u001b[0m\n",
            "\u001b[2K   \u001b[90m━━━━━━━━━━━━━━━━━━━━━━━━━━━━━━━━━━━━━━━━\u001b[0m \u001b[32m59.5/59.5 kB\u001b[0m \u001b[31m4.1 MB/s\u001b[0m eta \u001b[36m0:00:00\u001b[0m\n",
            "\u001b[2K   \u001b[90m━━━━━━━━━━━━━━━━━━━━━━━━━━━━━━━━━━━━━━━━\u001b[0m \u001b[32m5.6/5.6 MB\u001b[0m \u001b[31m64.1 MB/s\u001b[0m eta \u001b[36m0:00:00\u001b[0m\n",
            "\u001b[2K   \u001b[90m━━━━━━━━━━━━━━━━━━━━━━━━━━━━━━━━━━━━━━━━\u001b[0m \u001b[32m3.3/3.3 MB\u001b[0m \u001b[31m70.9 MB/s\u001b[0m eta \u001b[36m0:00:00\u001b[0m\n",
            "\u001b[2K   \u001b[90m━━━━━━━━━━━━━━━━━━━━━━━━━━━━━━━━━━━━━━━━\u001b[0m \u001b[32m756.0/756.0 kB\u001b[0m \u001b[31m37.1 MB/s\u001b[0m eta \u001b[36m0:00:00\u001b[0m\n",
            "\u001b[2K   \u001b[90m━━━━━━━━━━━━━━━━━━━━━━━━━━━━━━━━━━━━━━━━\u001b[0m \u001b[32m236.0/236.0 kB\u001b[0m \u001b[31m15.7 MB/s\u001b[0m eta \u001b[36m0:00:00\u001b[0m\n",
            "\u001b[2K   \u001b[90m━━━━━━━━━━━━━━━━━━━━━━━━━━━━━━━━━━━━━━━━\u001b[0m \u001b[32m16.2/16.2 MB\u001b[0m \u001b[31m73.5 MB/s\u001b[0m eta \u001b[36m0:00:00\u001b[0m\n",
            "\u001b[2K   \u001b[90m━━━━━━━━━━━━━━━━━━━━━━━━━━━━━━━━━━━━━━━━\u001b[0m \u001b[32m278.6/278.6 kB\u001b[0m \u001b[31m17.9 MB/s\u001b[0m eta \u001b[36m0:00:00\u001b[0m\n",
            "\u001b[2K   \u001b[90m━━━━━━━━━━━━━━━━━━━━━━━━━━━━━━━━━━━━━━━━\u001b[0m \u001b[32m94.8/94.8 kB\u001b[0m \u001b[31m6.9 MB/s\u001b[0m eta \u001b[36m0:00:00\u001b[0m\n",
            "\u001b[2K   \u001b[90m━━━━━━━━━━━━━━━━━━━━━━━━━━━━━━━━━━━━━━━━\u001b[0m \u001b[32m76.4/76.4 kB\u001b[0m \u001b[31m5.5 MB/s\u001b[0m eta \u001b[36m0:00:00\u001b[0m\n",
            "\u001b[2K   \u001b[90m━━━━━━━━━━━━━━━━━━━━━━━━━━━━━━━━━━━━━━━━\u001b[0m \u001b[32m2.0/2.0 MB\u001b[0m \u001b[31m61.0 MB/s\u001b[0m eta \u001b[36m0:00:00\u001b[0m\n",
            "\u001b[2K   \u001b[90m━━━━━━━━━━━━━━━━━━━━━━━━━━━━━━━━━━━━━━━━\u001b[0m \u001b[32m101.6/101.6 kB\u001b[0m \u001b[31m7.3 MB/s\u001b[0m eta \u001b[36m0:00:00\u001b[0m\n",
            "\u001b[2K   \u001b[90m━━━━━━━━━━━━━━━━━━━━━━━━━━━━━━━━━━━━━━━━\u001b[0m \u001b[32m13.3/13.3 MB\u001b[0m \u001b[31m74.9 MB/s\u001b[0m eta \u001b[36m0:00:00\u001b[0m\n",
            "\u001b[2K   \u001b[90m━━━━━━━━━━━━━━━━━━━━━━━━━━━━━━━━━━━━━━━━\u001b[0m \u001b[32m72.0/72.0 kB\u001b[0m \u001b[31m5.2 MB/s\u001b[0m eta \u001b[36m0:00:00\u001b[0m\n",
            "\u001b[2K   \u001b[90m━━━━━━━━━━━━━━━━━━━━━━━━━━━━━━━━━━━━━━━━\u001b[0m \u001b[32m2.9/2.9 MB\u001b[0m \u001b[31m72.2 MB/s\u001b[0m eta \u001b[36m0:00:00\u001b[0m\n",
            "\u001b[2K   \u001b[90m━━━━━━━━━━━━━━━━━━━━━━━━━━━━━━━━━━━━━━━━\u001b[0m \u001b[32m62.3/62.3 kB\u001b[0m \u001b[31m4.3 MB/s\u001b[0m eta \u001b[36m0:00:00\u001b[0m\n",
            "\u001b[2K   \u001b[90m━━━━━━━━━━━━━━━━━━━━━━━━━━━━━━━━━━━━━━━━\u001b[0m \u001b[32m459.8/459.8 kB\u001b[0m \u001b[31m27.1 MB/s\u001b[0m eta \u001b[36m0:00:00\u001b[0m\n",
            "\u001b[2K   \u001b[90m━━━━━━━━━━━━━━━━━━━━━━━━━━━━━━━━━━━━━━━━\u001b[0m \u001b[32m1.6/1.6 MB\u001b[0m \u001b[31m42.7 MB/s\u001b[0m eta \u001b[36m0:00:00\u001b[0m\n",
            "\u001b[2K   \u001b[90m━━━━━━━━━━━━━━━━━━━━━━━━━━━━━━━━━━━━━━━━\u001b[0m \u001b[32m319.7/319.7 kB\u001b[0m \u001b[31m6.4 MB/s\u001b[0m eta \u001b[36m0:00:00\u001b[0m\n",
            "\u001b[2K   \u001b[90m━━━━━━━━━━━━━━━━━━━━━━━━━━━━━━━━━━━━━━━━\u001b[0m \u001b[32m71.5/71.5 kB\u001b[0m \u001b[31m675.9 kB/s\u001b[0m eta \u001b[36m0:00:00\u001b[0m\n",
            "\u001b[2K   \u001b[90m━━━━━━━━━━━━━━━━━━━━━━━━━━━━━━━━━━━━━━━━\u001b[0m \u001b[32m4.0/4.0 MB\u001b[0m \u001b[31m73.3 MB/s\u001b[0m eta \u001b[36m0:00:00\u001b[0m\n",
            "\u001b[2K   \u001b[90m━━━━━━━━━━━━━━━━━━━━━━━━━━━━━━━━━━━━━━━━\u001b[0m \u001b[32m452.6/452.6 kB\u001b[0m \u001b[31m26.7 MB/s\u001b[0m eta \u001b[36m0:00:00\u001b[0m\n",
            "\u001b[2K   \u001b[90m━━━━━━━━━━━━━━━━━━━━━━━━━━━━━━━━━━━━━━━━\u001b[0m \u001b[32m46.0/46.0 kB\u001b[0m \u001b[31m2.9 MB/s\u001b[0m eta \u001b[36m0:00:00\u001b[0m\n",
            "\u001b[2K   \u001b[90m━━━━━━━━━━━━━━━━━━━━━━━━━━━━━━━━━━━━━━━━\u001b[0m \u001b[32m86.8/86.8 kB\u001b[0m \u001b[31m6.3 MB/s\u001b[0m eta \u001b[36m0:00:00\u001b[0m\n",
            "\u001b[?25h  Building wheel for pypika (pyproject.toml) ... \u001b[?25l\u001b[?25hdone\n",
            "\u001b[31mERROR: pip's dependency resolver does not currently take into account all the packages that are installed. This behaviour is the source of the following dependency conflicts.\n",
            "llama-index-core 0.11.23 requires tenacity!=8.4.0,<9.0.0,>=8.2.0, but you have tenacity 9.0.0 which is incompatible.\n",
            "llama-index-legacy 0.9.48.post4 requires tenacity<9.0.0,>=8.2.0, but you have tenacity 9.0.0 which is incompatible.\u001b[0m\u001b[31m\n",
            "\u001b[0m"
          ]
        }
      ]
    },
    {
      "cell_type": "markdown",
      "source": [
        "## Create the Crew"
      ],
      "metadata": {
        "id": "tyrHj9jr16AA"
      }
    },
    {
      "cell_type": "code",
      "source": [
        "import os\n",
        "from crewai import Agent, Task, Crew, Process\n",
        "from langchain.tools import tool\n",
        "from IPython.display import Markdown\n",
        "from langchain_openai import ChatOpenAI\n",
        "from langchain.tools import DuckDuckGoSearchRun\n",
        "\n",
        "# Set up the LLM\n",
        "llm = ChatOpenAI(temperature=0.1, model=\"gpt-4o-mini\")\n",
        "\n",
        "# Set up tool\n",
        "@tool(\"Search on DuckDuckGo\")\n",
        "def search_tool(query: str) -> str:\n",
        "    \"\"\"Search DuckDuckGo.\"\"\"\n",
        "    search = DuckDuckGoSearchRun()\n",
        "    return search.run(query)\n",
        "\n",
        "# Define your agents with roles and goals\n",
        "researcher = Agent(\n",
        "  role='Researcher',\n",
        "  goal='Uncover cutting-edge developments in AI and data science',\n",
        "  backstory=\"\"\"You work at a leading tech think tank.\n",
        "  Your expertise lies in identifying emerging trends.\n",
        "  You have a knack for dissecting complex data and presenting\n",
        "  actionable insights.\"\"\",\n",
        "  verbose=True,\n",
        "  allow_delegation=False,\n",
        "  llm = llm,\n",
        "  tools=[\n",
        "        search_tool\n",
        "      ]\n",
        ")\n",
        "\n",
        "writer = Agent(\n",
        "  role='AI Technical editor',\n",
        "  goal='Craft compelling content on tech advancements',\n",
        "  backstory=\"\"\"\n",
        "  You are a AI technical editor with 5+ years of experience\n",
        "  \"\"\",\n",
        "  verbose=True,\n",
        "  allow_delegation=False,\n",
        "  llm = llm,\n",
        "  tools=[]\n",
        ")\n",
        "\n",
        "# Create tasks for your agents\n",
        "task1 = Task(\n",
        "  description=\"\"\"Conduct a comprehensive analysis of the latest advancements in AI in 2024.\n",
        "  Identify key trends, breakthrough technologies, and potential industry impacts.\n",
        "  \"\"\",\n",
        "  agent=researcher,\n",
        "  expected_output=\"Research data for advancement in AI in 2024\"\n",
        ")\n",
        "\n",
        "task2 = Task(\n",
        "  description=\"\"\"You have to write a technical blog post for latest advancements in AI in 2024\"\"\",\n",
        "  agent=writer,\n",
        "  expected_output=\"A technical blog post for recent advancement in AI in 2024\"\n",
        ")\n",
        "\n",
        "# Instantiate your crew with a sequential process\n",
        "crew = Crew(\n",
        "  agents=[researcher, writer],\n",
        "  tasks=[task1, task2],\n",
        "  verbose=True\n",
        ")\n",
        "\n",
        "# Get your crew to work!\n",
        "result = crew.kickoff()\n",
        "\n",
        "# output\n",
        "Markdown(str(result))"
      ],
      "metadata": {
        "id": "9ZG9GxqWV0md",
        "colab": {
          "base_uri": "https://localhost:8080/",
          "height": 1000
        },
        "outputId": "3925b813-4b85-4177-b0e9-ed9ddf73990f"
      },
      "execution_count": 8,
      "outputs": [
        {
          "output_type": "stream",
          "name": "stdout",
          "text": [
            "\u001b[1m\u001b[95m# Agent:\u001b[00m \u001b[1m\u001b[92mResearcher\u001b[00m\n",
            "\u001b[95m## Task:\u001b[00m \u001b[92mConduct a comprehensive analysis of the latest advancements in AI in 2024.\n",
            "  Identify key trends, breakthrough technologies, and potential industry impacts.\n",
            "  \u001b[00m\n",
            "\n",
            "\n",
            "\u001b[1m\u001b[95m# Agent:\u001b[00m \u001b[1m\u001b[92mResearcher\u001b[00m\n",
            "\u001b[95m## Thought:\u001b[00m \u001b[92mI need to gather information on the latest advancements in AI for 2024, including key trends, breakthrough technologies, and potential industry impacts.\u001b[00m\n",
            "\u001b[95m## Using tool:\u001b[00m \u001b[92mSearch on DuckDuckGo\u001b[00m\n",
            "\u001b[95m## Tool Input:\u001b[00m \u001b[92m\n",
            "\"{\\\"query\\\": \\\"latest advancements in AI 2024 trends technologies impacts\\\"}\"\u001b[00m\n",
            "\u001b[95m## Tool Output:\u001b[00m \u001b[92m\n",
            "AI Magazine examines the top 10 AI trends of 2024 to understand the developments of this year and see what could be on the agenda for 2025. ... the impact of AI is far-reaching and profound. ... Two New Judges Join The Global Tech & AI Awards 2025. Technology. Top 10: AI Trends in 2024. 2024 has marked a pivotal year for artificial intelligence, with groundbreaking advancements shaping various sectors globally. From the EU finalizing its comprehensive AI Act to the launch of the first AI-native smartphone, these developments are set to redefine the AI landscape. Major events include AI's role in the U.S. elections, advances in AI-powered scientific research, and significant ... In 2024, he demonstrated this when he was made joint winner of the Nobel Prize for chemistry, thanks to the AI model AlphaFold 2 being integral to the task of creating new proteins. By predicting ... In 2024, artificial intelligence (AI) will continue to revolutionize various sectors globally. Research institutions, companies, and governments are driving advancements in AI technologies, contributing to significant breakthroughs and applications. This article provides an overview of the leading A New AI-driven opportunities created roles in system management and integration. Top 10 AI Trends in 2024. AI evolved rapidly in 2024, with Top 10 AI trends defining its impact. From automation to creativity and global regulations, these trends reshaped industries and set the stage for a transformative future.\u001b[00m\n",
            "\n",
            "\n",
            "\u001b[1m\u001b[95m# Agent:\u001b[00m \u001b[1m\u001b[92mResearcher\u001b[00m\n",
            "\u001b[95m## Final Answer:\u001b[00m \u001b[92m\n",
            "In 2024, artificial intelligence (AI) has marked a pivotal year with groundbreaking advancements shaping various sectors globally. Key trends include the finalization of the EU's comprehensive AI Act, the launch of the first AI-native smartphone, and AI's significant role in the U.S. elections. Major breakthroughs have been observed in AI-powered scientific research, exemplified by the Nobel Prize awarded for chemistry, where the AI model AlphaFold 2 played a crucial role in creating new proteins. \n",
            "\n",
            "The top trends defining AI in 2024 include:\n",
            "\n",
            "1. **Regulatory Frameworks**: The EU's AI Act aims to create a comprehensive regulatory framework for AI, ensuring ethical use and accountability.\n",
            "   \n",
            "2. **AI-native Devices**: The introduction of AI-native smartphones signifies a shift towards devices that are inherently designed to leverage AI capabilities for enhanced user experiences.\n",
            "\n",
            "3. **AI in Governance**: AI's integration into political processes, particularly in the U.S. elections, showcases its growing influence in governance and public policy.\n",
            "\n",
            "4. **Scientific Advancements**: AI continues to drive innovation in scientific research, with models like AlphaFold 2 revolutionizing protein synthesis and drug discovery.\n",
            "\n",
            "5. **Automation and Workforce Transformation**: The rise of AI-driven automation is reshaping job roles, creating new opportunities in system management and integration.\n",
            "\n",
            "6. **Creative AI**: AI's role in creative fields is expanding, with tools that assist in art, music, and content creation gaining popularity.\n",
            "\n",
            "7. **Sustainability Initiatives**: AI technologies are being leveraged to address climate change and promote sustainability, optimizing resource management and energy consumption.\n",
            "\n",
            "8. **AI Ethics and Bias Mitigation**: As AI systems become more prevalent, there is a growing focus on ethical considerations and bias mitigation to ensure fair and equitable outcomes.\n",
            "\n",
            "9. **Healthcare Innovations**: AI is transforming healthcare through predictive analytics, personalized medicine, and improved patient care.\n",
            "\n",
            "10. **Global Collaboration**: The advancement of AI technologies is fostering international collaboration, with countries working together to address global challenges through AI solutions.\n",
            "\n",
            "These trends are set to redefine the AI landscape, influencing various industries and paving the way for a transformative future.\n",
            "```\u001b[00m\n",
            "\n",
            "\n",
            "\u001b[1m\u001b[95m# Agent:\u001b[00m \u001b[1m\u001b[92mAI Technical editor\u001b[00m\n",
            "\u001b[95m## Task:\u001b[00m \u001b[92mYou have to write a technical blog post for latest advancements in AI in 2024\u001b[00m\n",
            "\n",
            "\n",
            "\u001b[1m\u001b[95m# Agent:\u001b[00m \u001b[1m\u001b[92mAI Technical editor\u001b[00m\n",
            "\u001b[95m## Final Answer:\u001b[00m \u001b[92m\n",
            "# The Transformative Landscape of AI in 2024: Key Advancements and Trends\n",
            "\n",
            "As we step into 2024, the realm of artificial intelligence (AI) has witnessed unprecedented advancements that are reshaping industries and societal structures worldwide. This year marks a pivotal moment in AI development, characterized by significant regulatory frameworks, innovative technologies, and transformative applications across various sectors. Here, we delve into the top trends defining AI in 2024 and their implications for the future.\n",
            "\n",
            "## 1. Regulatory Frameworks: The EU's AI Act\n",
            "\n",
            "One of the most significant developments in 2024 is the finalization of the European Union's comprehensive AI Act. This landmark legislation aims to establish a robust regulatory framework that ensures the ethical use of AI technologies. By promoting accountability and transparency, the EU's AI Act seeks to mitigate risks associated with AI deployment, fostering public trust and encouraging responsible innovation. This regulatory approach is expected to serve as a model for other regions, influencing global standards for AI governance.\n",
            "\n",
            "## 2. AI-native Devices: The Future of Smartphones\n",
            "\n",
            "The introduction of the first AI-native smartphone marks a revolutionary shift in consumer technology. Unlike traditional smartphones, these devices are designed from the ground up to leverage AI capabilities, offering enhanced user experiences through personalized interfaces, advanced voice recognition, and intelligent automation. This innovation not only elevates user engagement but also sets a new standard for how technology can seamlessly integrate into daily life.\n",
            "\n",
            "## 3. AI in Governance: A New Era of Political Engagement\n",
            "\n",
            "AI's integration into political processes has become increasingly prominent, particularly in the context of the U.S. elections. By analyzing vast amounts of data, AI tools are being utilized to gauge public sentiment, optimize campaign strategies, and enhance voter engagement. This trend underscores the growing influence of AI in governance and public policy, raising important questions about the ethical implications of AI in democratic processes.\n",
            "\n",
            "## 4. Scientific Advancements: AlphaFold 2 and Beyond\n",
            "\n",
            "AI continues to drive groundbreaking innovations in scientific research. A notable example is the Nobel Prize awarded for chemistry in 2024, where the AI model AlphaFold 2 played a crucial role in the synthesis of new proteins. This achievement highlights the transformative potential of AI in drug discovery and biotechnology, paving the way for accelerated scientific breakthroughs that can address pressing global health challenges.\n",
            "\n",
            "## 5. Automation and Workforce Transformation\n",
            "\n",
            "The rise of AI-driven automation is reshaping job roles across industries. While some traditional positions may be at risk, new opportunities are emerging in system management, AI integration, and data analysis. Organizations are increasingly seeking professionals who can harness AI technologies to enhance operational efficiency and drive innovation, leading to a workforce transformation that emphasizes adaptability and continuous learning.\n",
            "\n",
            "## 6. Creative AI: Expanding Artistic Horizons\n",
            "\n",
            "AI's role in creative fields is expanding rapidly, with innovative tools that assist in art, music, and content creation gaining popularity. These AI-driven platforms empower artists and creators to explore new dimensions of creativity, enabling them to produce unique works that blend human ingenuity with machine intelligence. This trend not only democratizes access to creative tools but also challenges traditional notions of authorship and artistic expression.\n",
            "\n",
            "## 7. Sustainability Initiatives: AI for a Greener Future\n",
            "\n",
            "In response to the urgent need for climate action, AI technologies are being leveraged to promote sustainability and address environmental challenges. From optimizing resource management to enhancing energy efficiency, AI is playing a crucial role in developing solutions that mitigate the impacts of climate change. This trend reflects a growing recognition of the potential for AI to contribute positively to global sustainability efforts.\n",
            "\n",
            "## 8. AI Ethics and Bias Mitigation: Ensuring Fairness\n",
            "\n",
            "As AI systems become more prevalent, there is an increasing focus on ethical considerations and bias mitigation. Researchers and practitioners are actively working to develop frameworks that ensure fair and equitable outcomes in AI applications. This emphasis on ethics is essential for building trust in AI technologies and ensuring that they serve the interests of all stakeholders.\n",
            "\n",
            "## 9. Healthcare Innovations: Revolutionizing Patient Care\n",
            "\n",
            "AI is transforming the healthcare landscape through predictive analytics, personalized medicine, and improved patient care. By analyzing patient data, AI systems can identify trends and provide insights that enhance clinical decision-making. This innovation not only improves patient outcomes but also streamlines healthcare processes, making them more efficient and accessible.\n",
            "\n",
            "## 10. Global Collaboration: Addressing Challenges Together\n",
            "\n",
            "The advancement of AI technologies is fostering international collaboration, with countries working together to tackle global challenges through AI solutions. This collaborative spirit is essential for addressing complex issues such as climate change, public health, and economic inequality. By sharing knowledge and resources, nations can leverage AI to create a more equitable and sustainable future.\n",
            "\n",
            "## Conclusion\n",
            "\n",
            "The advancements in AI in 2024 are set to redefine the technological landscape, influencing various industries and paving the way for a transformative future. As we navigate this rapidly evolving field, it is crucial to embrace the opportunities presented by AI while remaining vigilant about the ethical implications and societal impacts of these technologies. The journey ahead promises to be both exciting and challenging, as we harness the power of AI to shape a better world.\u001b[00m\n",
            "\n",
            "\n"
          ]
        },
        {
          "output_type": "execute_result",
          "data": {
            "text/plain": [
              "<IPython.core.display.Markdown object>"
            ],
            "text/markdown": "# The Transformative Landscape of AI in 2024: Key Advancements and Trends\n\nAs we step into 2024, the realm of artificial intelligence (AI) has witnessed unprecedented advancements that are reshaping industries and societal structures worldwide. This year marks a pivotal moment in AI development, characterized by significant regulatory frameworks, innovative technologies, and transformative applications across various sectors. Here, we delve into the top trends defining AI in 2024 and their implications for the future.\n\n## 1. Regulatory Frameworks: The EU's AI Act\n\nOne of the most significant developments in 2024 is the finalization of the European Union's comprehensive AI Act. This landmark legislation aims to establish a robust regulatory framework that ensures the ethical use of AI technologies. By promoting accountability and transparency, the EU's AI Act seeks to mitigate risks associated with AI deployment, fostering public trust and encouraging responsible innovation. This regulatory approach is expected to serve as a model for other regions, influencing global standards for AI governance.\n\n## 2. AI-native Devices: The Future of Smartphones\n\nThe introduction of the first AI-native smartphone marks a revolutionary shift in consumer technology. Unlike traditional smartphones, these devices are designed from the ground up to leverage AI capabilities, offering enhanced user experiences through personalized interfaces, advanced voice recognition, and intelligent automation. This innovation not only elevates user engagement but also sets a new standard for how technology can seamlessly integrate into daily life.\n\n## 3. AI in Governance: A New Era of Political Engagement\n\nAI's integration into political processes has become increasingly prominent, particularly in the context of the U.S. elections. By analyzing vast amounts of data, AI tools are being utilized to gauge public sentiment, optimize campaign strategies, and enhance voter engagement. This trend underscores the growing influence of AI in governance and public policy, raising important questions about the ethical implications of AI in democratic processes.\n\n## 4. Scientific Advancements: AlphaFold 2 and Beyond\n\nAI continues to drive groundbreaking innovations in scientific research. A notable example is the Nobel Prize awarded for chemistry in 2024, where the AI model AlphaFold 2 played a crucial role in the synthesis of new proteins. This achievement highlights the transformative potential of AI in drug discovery and biotechnology, paving the way for accelerated scientific breakthroughs that can address pressing global health challenges.\n\n## 5. Automation and Workforce Transformation\n\nThe rise of AI-driven automation is reshaping job roles across industries. While some traditional positions may be at risk, new opportunities are emerging in system management, AI integration, and data analysis. Organizations are increasingly seeking professionals who can harness AI technologies to enhance operational efficiency and drive innovation, leading to a workforce transformation that emphasizes adaptability and continuous learning.\n\n## 6. Creative AI: Expanding Artistic Horizons\n\nAI's role in creative fields is expanding rapidly, with innovative tools that assist in art, music, and content creation gaining popularity. These AI-driven platforms empower artists and creators to explore new dimensions of creativity, enabling them to produce unique works that blend human ingenuity with machine intelligence. This trend not only democratizes access to creative tools but also challenges traditional notions of authorship and artistic expression.\n\n## 7. Sustainability Initiatives: AI for a Greener Future\n\nIn response to the urgent need for climate action, AI technologies are being leveraged to promote sustainability and address environmental challenges. From optimizing resource management to enhancing energy efficiency, AI is playing a crucial role in developing solutions that mitigate the impacts of climate change. This trend reflects a growing recognition of the potential for AI to contribute positively to global sustainability efforts.\n\n## 8. AI Ethics and Bias Mitigation: Ensuring Fairness\n\nAs AI systems become more prevalent, there is an increasing focus on ethical considerations and bias mitigation. Researchers and practitioners are actively working to develop frameworks that ensure fair and equitable outcomes in AI applications. This emphasis on ethics is essential for building trust in AI technologies and ensuring that they serve the interests of all stakeholders.\n\n## 9. Healthcare Innovations: Revolutionizing Patient Care\n\nAI is transforming the healthcare landscape through predictive analytics, personalized medicine, and improved patient care. By analyzing patient data, AI systems can identify trends and provide insights that enhance clinical decision-making. This innovation not only improves patient outcomes but also streamlines healthcare processes, making them more efficient and accessible.\n\n## 10. Global Collaboration: Addressing Challenges Together\n\nThe advancement of AI technologies is fostering international collaboration, with countries working together to tackle global challenges through AI solutions. This collaborative spirit is essential for addressing complex issues such as climate change, public health, and economic inequality. By sharing knowledge and resources, nations can leverage AI to create a more equitable and sustainable future.\n\n## Conclusion\n\nThe advancements in AI in 2024 are set to redefine the technological landscape, influencing various industries and paving the way for a transformative future. As we navigate this rapidly evolving field, it is crucial to embrace the opportunities presented by AI while remaining vigilant about the ethical implications and societal impacts of these technologies. The journey ahead promises to be both exciting and challenging, as we harness the power of AI to shape a better world."
          },
          "metadata": {},
          "execution_count": 8
        }
      ]
    },
    {
      "cell_type": "code",
      "source": [],
      "metadata": {
        "id": "bsW9oB2A1_G7"
      },
      "execution_count": 8,
      "outputs": []
    }
  ],
  "metadata": {
    "colab": {
      "provenance": []
    },
    "kernelspec": {
      "display_name": "Python 3 (ipykernel)",
      "language": "python",
      "name": "python3"
    },
    "language_info": {
      "codemirror_mode": {
        "name": "ipython",
        "version": 3
      },
      "file_extension": ".py",
      "mimetype": "text/x-python",
      "name": "python",
      "nbconvert_exporter": "python",
      "pygments_lexer": "ipython3"
    }
  },
  "nbformat": 4,
  "nbformat_minor": 0
}